{
  "nbformat": 4,
  "nbformat_minor": 0,
  "metadata": {
    "colab": {
      "name": "ML_training.ipynb",
      "provenance": [],
      "collapsed_sections": [],
      "toc_visible": true,
      "authorship_tag": "ABX9TyO4Wn9bo9caZGOQlL1ZDBVn",
      "include_colab_link": true
    },
    "kernelspec": {
      "display_name": "Python 3",
      "name": "python3"
    }
  },
  "cells": [
    {
      "cell_type": "markdown",
      "metadata": {
        "id": "view-in-github",
        "colab_type": "text"
      },
      "source": [
        "<a href=\"https://colab.research.google.com/github/antnolang/CronuSwim/blob/master/training/ML_training.ipynb\" target=\"_parent\"><img src=\"https://colab.research.google.com/assets/colab-badge.svg\" alt=\"Open In Colab\"/></a>"
      ]
    },
    {
      "cell_type": "markdown",
      "metadata": {
        "id": "N0D0NSqmxxvh"
      },
      "source": [
        "# Pre-procesado de datos"
      ]
    },
    {
      "cell_type": "markdown",
      "metadata": {
        "id": "eMi192_CmaPK"
      },
      "source": [
        "Imports necesarios, variables globales y montando drive para acceder a los datos de entrenamiento. Los datos de entrenamiento (eventX.csv) se encuentran en [esta carpeta de google drive](https://drive.google.com/drive/folders/1cJVks6-vDZHNLh_PZGftixH3rgFID53Q?usp=sharing)."
      ]
    },
    {
      "cell_type": "code",
      "metadata": {
        "colab": {
          "base_uri": "https://localhost:8080/"
        },
        "id": "6O-3TshnxlLx",
        "outputId": "5108b173-4e61-4fe9-a7be-39814c737fc0"
      },
      "source": [
        "! pip install emlearn\n",
        "import emlearn\n",
        "import math\n",
        "import glob\n",
        "import os\n",
        "import random\n",
        "import pandas as pd\n",
        "import scipy.stats as sp\n",
        "import numpy as np\n",
        "from google.colab import drive\n",
        "from sklearn.model_selection import cross_val_score\n",
        "from sklearn.ensemble import RandomForestClassifier\n",
        "from sklearn.feature_selection import RFECV\n",
        "from sklearn.naive_bayes import GaussianNB\n",
        "from sklearn import metrics\n",
        "\n",
        "random.seed(0)\n",
        "drive.mount('drive/', force_remount=True)\n",
        "\n",
        "W_SIZE = 70\n",
        "FILE_PREFIX = '/content/drive/MyDrive/US/4º_(III)/TFG/data/'\n",
        "TESTING_PATH = FILE_PREFIX + 'test/'\n",
        "FILENAME_TARGET = FILE_PREFIX + 'swimming_phases.csv'\n",
        "CLASSES_MAP_INT = {'S':0, 'O':1, 'F':2}"
      ],
      "execution_count": null,
      "outputs": [
        {
          "output_type": "stream",
          "text": [
            "Requirement already satisfied: emlearn in /usr/local/lib/python3.7/dist-packages (0.11.6)\n",
            "Requirement already satisfied: numpy>=1.14.0 in /usr/local/lib/python3.7/dist-packages (from emlearn) (1.19.5)\n",
            "Requirement already satisfied: pybind11>=2.2 in /usr/local/lib/python3.7/dist-packages (from emlearn) (2.6.2)\n",
            "Mounted at drive/\n"
          ],
          "name": "stdout"
        }
      ]
    },
    {
      "cell_type": "markdown",
      "metadata": {
        "id": "VzAllynHmkU9"
      },
      "source": [
        "Definiciones de las funciones de procesado de datos. Para equilibrar los datos de entrenamiento, se generará en el fichero de salida el mismo número de registros de START, FINISH y OTHERS. Los registros de OTHERS corresponden a uno de los registros de cada event elegido de forma aleatoria para añadir variabilidad a este tipo de movimiento."
      ]
    },
    {
      "cell_type": "code",
      "metadata": {
        "id": "Jd7M1aWwyehq"
      },
      "source": [
        "# Encuentra los signos '+' en el archivo indicado y comprueba que hay \n",
        "# exactamente 2. Importante que el archivo mantenga su cabecera\n",
        "def find_plus_and_count(file):\n",
        "    file.readline() # skip csv header\n",
        "    plus_positions = []\n",
        "    \n",
        "    for line_num, line in enumerate(file):\n",
        "        if '+' in line:\n",
        "            plus_positions.append(line_num)\n",
        "\n",
        "    if len(plus_positions) == 2:\n",
        "        return tuple(plus_positions), line_num + 1\n",
        "    else:\n",
        "        raise Exception(\"ERROR: Incorrect format file.\")\n",
        "\n",
        "\n",
        "def get_statistic_from_sensor(x_axis, y_axis, z_axis, event_df, section):\n",
        "    subset_data = event_df[[x_axis,y_axis,z_axis]][section[0]:section[1]]\n",
        "\n",
        "    mean_x, mean_y, mean_z = subset_data.mean()\n",
        "    median_x, median_y, median_z = subset_data.median()\n",
        "    stdev_x, stdev_y, stdev_z = subset_data.std(ddof=0)\n",
        "    var_x, var_y, var_z = subset_data.var(ddof=0)\n",
        "    min_x, min_y, min_z = subset_data.min()\n",
        "    max_x, max_y, max_z = subset_data.max()    \n",
        "    kurtosis_x, kurtosis_y, kurtosis_z = sp.kurtosis(subset_data)\n",
        "    skew_x, skew_y, skew_z = sp.skew(subset_data)\n",
        "    q1_x, q1_y, q1_z = subset_data.quantile(0.25)\n",
        "    q3_x, q3_y, q3_z = subset_data.quantile(0.75)\n",
        "    iqr_x = q3_x - q1_x\n",
        "    iqr_y = q3_y - q1_y\n",
        "    iqr_z = q3_z - q1_z\n",
        "    rms = math.sqrt(np.square(subset_data.to_numpy()).sum() / (W_SIZE*3))\n",
        "\n",
        "    return [mean_x, mean_y, mean_z, median_x, median_y, median_z, \n",
        "            stdev_x, stdev_y, stdev_z, var_x, var_y, var_z, \n",
        "            min_x, min_y, min_z, max_x, max_y, max_z, \n",
        "            kurtosis_x, kurtosis_y, kurtosis_z, skew_x, skew_y, skew_z, \n",
        "            q1_x, q1_y, q1_z, q3_x, q3_y, q3_z, iqr_x, iqr_y, iqr_z, rms]\n",
        "\n",
        "\n",
        "def process_window(section, filename_src, w_class):\n",
        "    event_df = pd.read_csv(filename_src)\n",
        "    accel_stats = get_statistic_from_sensor('aX', 'aY', 'aZ', event_df, section)\n",
        "    gyros_stats = get_statistic_from_sensor('gX', 'gY', 'gZ', event_df, section)\n",
        "    stats = accel_stats + gyros_stats\n",
        "    str_stats = ','.join(str(s) for s in stats)\n",
        "\n",
        "    write_header = not os.path.exists(FILENAME_TARGET)\n",
        "\n",
        "    with open(FILENAME_TARGET, 'a') as file_target:\n",
        "        if write_header: \n",
        "            header = ('mean_aX,mean_aY,mean_aZ,median_aX,median_aY,median_aZ,'\n",
        "                  'stdev_aX,stdev_aY,stdev_aZ,var_aX,var_aY,var_aZ,'\n",
        "                  'min_aX,min_aY,min_aZ,max_aX,max_aY,max_aZ,'\n",
        "                  'kurtosis_aX,kurtosis_aY,kurtosis_aZ,skew_aX,skew_aY,skew_aZ,'\n",
        "                  'q1_aX,q1_aY,q1_aZ,q3_aX,q3_aY,q3_aZ,iqr_aX,iqr_aY,iqr_aZ,'\n",
        "                  'rms_a,mean_gX,mean_gY,mean_gZ,median_gX,median_gY,median_gZ,'\n",
        "                  'stdev_gX,stdev_gY,stdev_gZ,var_gX,var_gY,var_gZ,'\n",
        "                  'min_gX,min_gY,min_gZ,max_gX,max_gY,max_gZ,'\n",
        "                  'kurtosis_gX,kurtosis_gY,kurtosis_gZ,skew_gX,skew_gY,skew_gZ,'\n",
        "                  'q1_gX,q1_gY,q1_gZ,q3_gX,q3_gY,q3_gZ,iqr_gX,iqr_gY,iqr_gZ,'\n",
        "                  'rms_g,class\\n')\n",
        "            file_target.write(header)\n",
        "\n",
        "        file_target.write(str_stats + ',' + w_class + '\\n')\n",
        "\n",
        "\n",
        "def process_windows(sections, filename_src):\n",
        "    process_window(sections[0], filename_src, 'S')\n",
        "    process_window(sections[1], filename_src, 'F')\n",
        "    process_window(random.choice(sections[2:]), filename_src, 'O')\n",
        "\n",
        "\n",
        "# Devuelve tuplas en el siguiente orden: start, finish, other1, other2, other3, ... \n",
        "# Todos los rangos [init_line, last_line)\n",
        "def get_sections(filename):\n",
        "    file = open(filename, \"r\")\n",
        "    plus_positions, line_counter = find_plus_and_count(file)\n",
        "    others_count = 0\n",
        "    result = []\n",
        "\n",
        "    # Start section\n",
        "    start_section_init = plus_positions[0] - math.floor(W_SIZE / 2)\n",
        "    if start_section_init < 0:\n",
        "        start_section_init = 0\n",
        "    start_section_end = start_section_init + W_SIZE\n",
        "    result.append((start_section_init, start_section_end))\n",
        "\n",
        "    # Finish section\n",
        "    finish_section_end = plus_positions[1] + math.floor(W_SIZE / 2)\n",
        "    if finish_section_end + 1 > line_counter:\n",
        "        finish_section_end = line_counter - 1\n",
        "    finish_section_init = finish_section_end - W_SIZE\n",
        "    result.append((finish_section_init, finish_section_end))\n",
        "\n",
        "    # Other sections between Start and Finish sections\n",
        "    start_finish_gap = finish_section_init - start_section_end\n",
        "    if start_finish_gap < 0:\n",
        "        raise Exception(\"ERROR: Collapsing start section and finish section.\")\n",
        "    elif start_finish_gap >= W_SIZE:\n",
        "        other_section_number = math.floor(start_finish_gap / W_SIZE)\n",
        "        other_section_init = start_section_end\n",
        "        for _ in range(other_section_number):\n",
        "            other_section_end = other_section_init + W_SIZE\n",
        "            result.append((other_section_init, other_section_end))\n",
        "            other_section_init = other_section_end\n",
        "\n",
        "    # Other section before Start section\n",
        "    before_start_gap = start_section_init - 0\n",
        "    if before_start_gap > W_SIZE:\n",
        "        other_static_section_number = round(other_section_number * 0.35)\n",
        "        for _ in range(other_static_section_number):\n",
        "            result.append((0, W_SIZE))\n",
        "            \n",
        "    return result\n",
        "\n",
        "\n",
        "# =============================== Main function =============================== #\n",
        "\n",
        "def process_data():\n",
        "    if os.path.exists(FILENAME_TARGET): os.remove(FILENAME_TARGET)\n",
        "\n",
        "    for filename in glob.glob(FILE_PREFIX + \"event*.csv\"):\n",
        "        sections = get_sections(filename)\n",
        "        process_windows(sections, filename)\n",
        "\n",
        "    print(\"Window size: \" + str(W_SIZE))"
      ],
      "execution_count": null,
      "outputs": []
    },
    {
      "cell_type": "markdown",
      "metadata": {
        "id": "5Yz8FypomzXR"
      },
      "source": [
        "Llamada a la función principal de procesado de datos."
      ]
    },
    {
      "cell_type": "code",
      "metadata": {
        "colab": {
          "base_uri": "https://localhost:8080/"
        },
        "id": "KiAxe3R5m3tS",
        "outputId": "1c5f98fe-3f6f-45ee-9851-46e4816b7841"
      },
      "source": [
        "process_data()"
      ],
      "execution_count": null,
      "outputs": [
        {
          "output_type": "stream",
          "text": [
            "Window size: 70\n"
          ],
          "name": "stdout"
        }
      ]
    },
    {
      "cell_type": "markdown",
      "metadata": {
        "id": "Vtlf5Hw3zlmp"
      },
      "source": [
        "Definimos una función para facilitar la lectura de los datos procesados. El modelo en C++ devuelve las clases en valores int. Por eso es necesario mapear las clases de string a enteros al entrenar el modelo y así nos aseguramos que el número 0 pertenece a la salida, el 2 a la llegada y el 1 al resto de movimientos.\n",
        "\n",
        "Esta función se irá usando a lo largo de este documento:"
      ]
    },
    {
      "cell_type": "code",
      "metadata": {
        "id": "6ZRE5kFfzx1T"
      },
      "source": [
        "def read_X_y():\n",
        "    df = pd.read_csv(FILENAME_TARGET)\n",
        "    y = df['class']\n",
        "    y = y.apply(lambda x: CLASSES_MAP_INT[x])\n",
        "    X = df.drop(['class'], axis=1)\n",
        "    return X, y"
      ],
      "execution_count": null,
      "outputs": []
    },
    {
      "cell_type": "markdown",
      "metadata": {
        "id": "CPazUN0VhUEZ"
      },
      "source": [
        "# Selección de las features del modelo"
      ]
    },
    {
      "cell_type": "markdown",
      "metadata": {
        "id": "aj9oJapPiItL"
      },
      "source": [
        "Ya que estamos trabajando en un software de tiempo real, el tiempo que se tarda en calcular las features es importante para que el dispositivo esté el mayor tiempo posible leyendo datos de entrada y no se pierda demasiada información. Para ello, es conveniente reducir el número de features a calcular.\n",
        "\n",
        "Por otro lado cuanto mayor sea el número de features a usar, mejor precisión suele tener el algoritmo de machine learning. Por lo tanto hay que encontrar un buen equilibrio para que no haga falta calcular muchas features pero que al mismo tiempo den una buena precisión.\n",
        "\n",
        "De las *N* posibles features a usar con el algoritmo de machine learning, podemos seleccionar las que queramos y el número que queramos. Por ejemplo, podemos seleccionar solo la feature *mean_aX*, o por ejemplo las features *median_aY*, *stdev_gX* y *kurtosis_aZ*, etc.\n",
        "\n",
        "Por lo tanto, el número de combinaciones posibles de features para usar en el algoritmo de machine learning se puede calcular de la siguiente manera:\n",
        "\n",
        "$$ \\sum_{i=1}^{N} C_{N}^{i} = \\sum_{i=1}^{N} \\frac{N!}{i!(N-i)!} $$"
      ]
    },
    {
      "cell_type": "code",
      "metadata": {
        "colab": {
          "base_uri": "https://localhost:8080/"
        },
        "id": "ArzkgG9H3SUv",
        "outputId": "48dc14c6-a8fc-424c-dde0-7373e74d74eb"
      },
      "source": [
        "X, y = read_X_y()\n",
        "\n",
        "N = X.columns.size - 1\n",
        "print(\"N = \" + str(N))"
      ],
      "execution_count": null,
      "outputs": [
        {
          "output_type": "stream",
          "text": [
            "N = 67\n"
          ],
          "name": "stdout"
        }
      ]
    },
    {
      "cell_type": "code",
      "metadata": {
        "colab": {
          "base_uri": "https://localhost:8080/"
        },
        "id": "vjKnwdWChT0L",
        "outputId": "41250223-824d-4517-d867-d1846e0be66c"
      },
      "source": [
        "res = 0.0\n",
        "\n",
        "for i in range(1, N+1): # [1, N+1) = [1, N]\n",
        "    res += math.factorial(N) / (math.factorial(i) * math.factorial(N-i))\n",
        "\n",
        "print(\"El número de combinaciones posibles = \" + str(res))"
      ],
      "execution_count": null,
      "outputs": [
        {
          "output_type": "stream",
          "text": [
            "El número de combinaciones posibles = 1.4757395258967638e+20\n"
          ],
          "name": "stdout"
        }
      ]
    },
    {
      "cell_type": "markdown",
      "metadata": {
        "id": "VzoerGl1jE27"
      },
      "source": [
        "El número es excesivo así que no es viable testear la efectividad del algoritmo con todas y cada una de las combinaciones posible."
      ]
    },
    {
      "cell_type": "markdown",
      "metadata": {
        "id": "UsO7HF42lfdE"
      },
      "source": [
        "## Evaluación de variables de forma aislada"
      ]
    },
    {
      "cell_type": "markdown",
      "metadata": {
        "id": "zKwqEFkNlnjt"
      },
      "source": [
        "Para simplificar un poco el problema y tener una idea más o menos de cuál puede ser una buena combinación de variables, evaluaremos la efectividad de cada variable de forma aislada:"
      ]
    },
    {
      "cell_type": "code",
      "metadata": {
        "id": "C0UUa36PjFy5"
      },
      "source": [
        "res = []\n",
        "\n",
        "feats = np.delete(X.columns, X.columns.size - 1)\n",
        "for f in feats:\n",
        "    scores = cross_val_score(GaussianNB(), X[[f]], y, cv=10)\n",
        "    res.append((f, scores.mean()))"
      ],
      "execution_count": null,
      "outputs": []
    },
    {
      "cell_type": "markdown",
      "metadata": {
        "id": "d_fPODGSBW9Y"
      },
      "source": [
        "Ordenamos las variables por efectividad y las imprimimos:"
      ]
    },
    {
      "cell_type": "code",
      "metadata": {
        "colab": {
          "base_uri": "https://localhost:8080/"
        },
        "id": "Wg80saGRBb5Y",
        "outputId": "3ddd9b88-17a0-40a2-a4c2-8eaaa687c883"
      },
      "source": [
        "def get_score(elem):\n",
        "    return elem[1]\n",
        "\n",
        "res.sort(key=get_score, reverse=True)\n",
        "\n",
        "for i in res:\n",
        "    print(i)"
      ],
      "execution_count": null,
      "outputs": [
        {
          "output_type": "stream",
          "text": [
            "('mean_aZ', 0.8476190476190476)\n",
            "('median_aZ', 0.8238095238095238)\n",
            "('q3_aZ', 0.8238095238095238)\n",
            "('q1_aZ', 0.819047619047619)\n",
            "('median_gY', 0.8095238095238095)\n",
            "('q3_aX', 0.7904761904761903)\n",
            "('min_gY', 0.738095238095238)\n",
            "('iqr_gY', 0.7333333333333333)\n",
            "('mean_aX', 0.7190476190476189)\n",
            "('mean_gY', 0.7142857142857142)\n",
            "('q1_gY', 0.7142857142857142)\n",
            "('median_aX', 0.6952380952380952)\n",
            "('max_aX', 0.6952380952380952)\n",
            "('iqr_aX', 0.6952380952380952)\n",
            "('stdev_gX', 0.6904761904761905)\n",
            "('median_aY', 0.680952380952381)\n",
            "('stdev_aX', 0.680952380952381)\n",
            "('mean_gX', 0.6714285714285714)\n",
            "('var_gX', 0.6714285714285714)\n",
            "('stdev_gY', 0.6666666666666666)\n",
            "('min_gX', 0.6666666666666666)\n",
            "('var_aX', 0.6523809523809524)\n",
            "('max_aZ', 0.6523809523809524)\n",
            "('q1_gZ', 0.6523809523809524)\n",
            "('mean_aY', 0.6476190476190476)\n",
            "('var_aY', 0.6476190476190476)\n",
            "('skew_aZ', 0.6476190476190475)\n",
            "('q3_aY', 0.6476190476190475)\n",
            "('q3_gY', 0.6428571428571429)\n",
            "('max_gX', 0.6333333333333334)\n",
            "('kurtosis_gY', 0.6333333333333333)\n",
            "('var_gY', 0.6238095238095239)\n",
            "('q1_aY', 0.619047619047619)\n",
            "('stdev_aY', 0.6095238095238095)\n",
            "('iqr_aY', 0.6047619047619047)\n",
            "('rms_a', 0.5952380952380951)\n",
            "('min_aZ', 0.5857142857142857)\n",
            "('iqr_gX', 0.5714285714285715)\n",
            "('mean_gZ', 0.5619047619047619)\n",
            "('max_gY', 0.5619047619047619)\n",
            "('q3_gX', 0.5619047619047619)\n",
            "('median_gZ', 0.5476190476190477)\n",
            "('max_aY', 0.5476190476190476)\n",
            "('skew_gX', 0.5428571428571427)\n",
            "('q1_aX', 0.5380952380952382)\n",
            "('max_gZ', 0.5380952380952382)\n",
            "('kurtosis_aX', 0.5238095238095238)\n",
            "('iqr_aZ', 0.5190476190476191)\n",
            "('skew_gY', 0.519047619047619)\n",
            "('median_gX', 0.5047619047619049)\n",
            "('skew_gZ', 0.5047619047619047)\n",
            "('iqr_gZ', 0.5047619047619047)\n",
            "('kurtosis_gZ', 0.4904761904761905)\n",
            "('min_gZ', 0.4904761904761904)\n",
            "('var_gZ', 0.480952380952381)\n",
            "('skew_aX', 0.4666666666666667)\n",
            "('stdev_aZ', 0.46190476190476193)\n",
            "('min_aX', 0.44761904761904764)\n",
            "('min_aY', 0.4428571428571429)\n",
            "('stdev_gZ', 0.4428571428571429)\n",
            "('kurtosis_gX', 0.4428571428571428)\n",
            "('q1_gX', 0.43809523809523804)\n",
            "('var_aZ', 0.4333333333333333)\n",
            "('kurtosis_aZ', 0.3857142857142857)\n",
            "('skew_aY', 0.3857142857142857)\n",
            "('kurtosis_aY', 0.38095238095238093)\n",
            "('q3_gZ', 0.3571428571428571)\n"
          ],
          "name": "stdout"
        }
      ]
    },
    {
      "cell_type": "markdown",
      "metadata": {
        "id": "5_H5M1LLkgcS"
      },
      "source": [
        "Como primera aproximación está bien porque usando solo las X primeras variables conseguimos la misma tasa de acierto que usando todas las variables. Pero queremos seguir indagando para saber si existe un subconjunto de variables que no solo iguale la tasa de acierto del modelo con todas las variables, sino que incluso la mejore. Para ello necesitamos utilizar procedimientos más sofisticados."
      ]
    },
    {
      "cell_type": "markdown",
      "metadata": {
        "id": "B6FPtYx6lyW4"
      },
      "source": [
        "## RFE con el algoritmo de Random Forest"
      ]
    },
    {
      "cell_type": "markdown",
      "metadata": {
        "id": "YA-YfCuGmCUm"
      },
      "source": [
        "El método RFE consiste en partir del conjunto total de features e ir eliminando de una en una las features menos relevantes hasta llegar a un subconjunto de tamaño *M*. Este método requiere el uso de un algoritmo de machine learning que vaya dejando rastro de la relevancia de cada feature a la hora de clasificar. Por ello vamos a usar RFE junto con el algoritmo de Random Forest.\n",
        "\n",
        "Sklearn implementa ya una variante de RFE combinada con Cross Validation para encontrar el subconjunto de features óptimo. Utilizaremos esta variante para seleccionar las features:"
      ]
    },
    {
      "cell_type": "code",
      "metadata": {
        "colab": {
          "base_uri": "https://localhost:8080/"
        },
        "id": "9BCbhG_ckgHM",
        "outputId": "aa3b026f-7627-4358-fbf3-e876a4d0ff5a"
      },
      "source": [
        "selector = RFECV(RandomForestClassifier(random_state=0), cv=10)\n",
        "selector = selector.fit(X, y)\n",
        "\n",
        "columns = X.columns.to_numpy()\n",
        "feat_select_mask = selector.support_\n",
        "selection = columns[feat_select_mask]\n",
        "selection"
      ],
      "execution_count": null,
      "outputs": [
        {
          "output_type": "execute_result",
          "data": {
            "text/plain": [
              "array(['mean_aX', 'mean_aZ', 'median_aY', 'median_aZ', 'stdev_aX',\n",
              "       'var_aY', 'min_aY', 'min_aZ', 'max_aY', 'kurtosis_aX', 'skew_aZ',\n",
              "       'q1_aZ', 'q3_aX', 'q3_aZ', 'iqr_aX', 'iqr_aY', 'rms_a', 'mean_gX',\n",
              "       'mean_gY', 'median_gX', 'median_gY', 'stdev_gX', 'stdev_gY',\n",
              "       'var_gX', 'var_gY', 'min_gX', 'min_gY', 'max_gX', 'max_gZ',\n",
              "       'kurtosis_gZ', 'skew_gX', 'q1_gY', 'q3_gX', 'iqr_gY', 'rms_g'],\n",
              "      dtype=object)"
            ]
          },
          "metadata": {
            "tags": []
          },
          "execution_count": 27
        }
      ]
    },
    {
      "cell_type": "markdown",
      "metadata": {
        "id": "Jrr_abfmBwkc"
      },
      "source": [
        "En este punto ya tenemos los datos procesados cargados en las variable *X* e *y*, y además también tenemos el subconjunto óptimo de features a usar en la variable *selection*."
      ]
    },
    {
      "cell_type": "markdown",
      "metadata": {
        "id": "lQmzMddSxwCR"
      },
      "source": [
        "# Entrenando modelo de Machine Learning"
      ]
    },
    {
      "cell_type": "markdown",
      "metadata": {
        "id": "Kxa5antDAf7U"
      },
      "source": [
        "Entrenamos el clasificador usando solamente las features seleccionadas"
      ]
    },
    {
      "cell_type": "code",
      "metadata": {
        "id": "ixkMYKJ1rvos"
      },
      "source": [
        "X = X[selection]\n",
        "\n",
        "#X = X[['mean_aY','mean_aZ','mean_gY','median_aY','median_aZ','median_gY','min_aZ','min_gY','max_aZ','q1_aY','q1_aZ','q1_gY','q3_aY','q3_aZ','q3_gY']]\n",
        "#X = X.drop(['median_aX','median_aY','median_aZ','median_gX','median_gY','median_gZ','q1_aX','q1_aY','q1_aZ','q1_gX','q1_gY','q1_gZ','q3_aX','q3_aY','q3_aZ','q3_gX','q3_gY','q3_gZ','iqr_aX','iqr_aY','iqr_aZ','iqr_gX','iqr_gY','iqr_gZ','rms_a','rms_g'], axis=1)\n",
        "\n",
        "model = GaussianNB().fit(X, y)"
      ],
      "execution_count": null,
      "outputs": []
    },
    {
      "cell_type": "markdown",
      "metadata": {
        "id": "kGhOhk2xyCx6"
      },
      "source": [
        "# Evaluando modelo"
      ]
    },
    {
      "cell_type": "markdown",
      "metadata": {
        "id": "lxA1_9e9MXPf"
      },
      "source": [
        "Mostramos la matriz de confusión"
      ]
    },
    {
      "cell_type": "code",
      "metadata": {
        "colab": {
          "base_uri": "https://localhost:8080/",
          "height": 143
        },
        "id": "ERvVGE7KMaHR",
        "outputId": "548abbf6-b14e-4d8d-b32e-ee5127c7b36f"
      },
      "source": [
        "y_pred = model.predict(X)\n",
        "\n",
        "cm = pd.DataFrame(data=metrics.confusion_matrix(y, y_pred, labels=[0, 1, 2]), columns=['S_pred','O_pred','F_pred'], index=['S_real','O_real','F_real'])\n",
        "cm"
      ],
      "execution_count": null,
      "outputs": [
        {
          "output_type": "execute_result",
          "data": {
            "text/html": [
              "<div>\n",
              "<style scoped>\n",
              "    .dataframe tbody tr th:only-of-type {\n",
              "        vertical-align: middle;\n",
              "    }\n",
              "\n",
              "    .dataframe tbody tr th {\n",
              "        vertical-align: top;\n",
              "    }\n",
              "\n",
              "    .dataframe thead th {\n",
              "        text-align: right;\n",
              "    }\n",
              "</style>\n",
              "<table border=\"1\" class=\"dataframe\">\n",
              "  <thead>\n",
              "    <tr style=\"text-align: right;\">\n",
              "      <th></th>\n",
              "      <th>S_pred</th>\n",
              "      <th>O_pred</th>\n",
              "      <th>F_pred</th>\n",
              "    </tr>\n",
              "  </thead>\n",
              "  <tbody>\n",
              "    <tr>\n",
              "      <th>S_real</th>\n",
              "      <td>70</td>\n",
              "      <td>0</td>\n",
              "      <td>0</td>\n",
              "    </tr>\n",
              "    <tr>\n",
              "      <th>O_real</th>\n",
              "      <td>1</td>\n",
              "      <td>69</td>\n",
              "      <td>0</td>\n",
              "    </tr>\n",
              "    <tr>\n",
              "      <th>F_real</th>\n",
              "      <td>0</td>\n",
              "      <td>0</td>\n",
              "      <td>70</td>\n",
              "    </tr>\n",
              "  </tbody>\n",
              "</table>\n",
              "</div>"
            ],
            "text/plain": [
              "        S_pred  O_pred  F_pred\n",
              "S_real      70       0       0\n",
              "O_real       1      69       0\n",
              "F_real       0       0      70"
            ]
          },
          "metadata": {
            "tags": []
          },
          "execution_count": 29
        }
      ]
    },
    {
      "cell_type": "markdown",
      "metadata": {
        "id": "rqNJ7tneDGVq"
      },
      "source": [
        "Utilizamos validación cruzada para medir la tasa de aciertos media con datos no conocidos"
      ]
    },
    {
      "cell_type": "code",
      "metadata": {
        "colab": {
          "base_uri": "https://localhost:8080/"
        },
        "id": "duSKr4NLyFwB",
        "outputId": "a2142602-1e19-444b-dc55-97a8840f3966"
      },
      "source": [
        "scores = cross_val_score(GaussianNB(), X, y, cv=10)\n",
        "print(\"%0.4f de aciertos con una desviación estándar de %0.4f\" % (scores.mean(), scores.std()))"
      ],
      "execution_count": null,
      "outputs": [
        {
          "output_type": "stream",
          "text": [
            "0.9524 de aciertos con una desviación estándar de 0.0563\n"
          ],
          "name": "stdout"
        }
      ]
    },
    {
      "cell_type": "markdown",
      "metadata": {
        "id": "4vgbawTy3shA"
      },
      "source": [
        "# Exportando modelo a código C++"
      ]
    },
    {
      "cell_type": "markdown",
      "metadata": {
        "id": "ZMtamAd38fvx"
      },
      "source": [
        "Convertimos el modelo a código C. Se generará la cabecera \"trained_model.h\" en la sección de archivos de este notebook."
      ]
    },
    {
      "cell_type": "code",
      "metadata": {
        "colab": {
          "base_uri": "https://localhost:8080/",
          "height": 194
        },
        "id": "SCJwFdYv3z2T",
        "outputId": "2c57ce5a-be08-451f-d707-4caae448b95a"
      },
      "source": [
        "cmodel = emlearn.convert(model)\n",
        "cmodel.save(file='trained_model.h')"
      ],
      "execution_count": null,
      "outputs": [
        {
          "output_type": "execute_result",
          "data": {
            "application/vnd.google.colaboratory.intrinsic+json": {
              "type": "string"
            },
            "text/plain": [
              "'// !!! This file is generated by emlearn !!!\\n\\n    #include <eml_bayes.h>\\n    \\n\\nEmlBayesSummary trained_model_summaries[105] = {\\n        { EML_Q16_FROMFLOAT(-0.09760122448979591),EML_Q16_FROMFLOAT(0.2060260237006479),EML_Q16_FROMFLOAT(-2.279101515281723) },\\n  { EML_Q16_FROMFLOAT(-0.7965936734693877),EML_Q16_FROMFLOAT(0.22775197678850365),EML_Q16_FROMFLOAT(-2.134464518837668) },\\n  { EML_Q16_FROMFLOAT(-0.5856714285714286),EML_Q16_FROMFLOAT(0.22029123708690018),EML_Q16_FROMFLOAT(-2.182515987332521) },\\n  { EML_Q16_FROMFLOAT(-0.8270214285714284),EML_Q16_FROMFLOAT(0.21512329735723254),EML_Q16_FROMFLOAT(-2.2167643211180965) },\\n  { EML_Q16_FROMFLOAT(0.12393441269530088),EML_Q16_FROMFLOAT(0.19927348809757978),EML_Q16_FROMFLOAT(-2.3271783121282694) },\\n  { EML_Q16_FROMFLOAT(0.12301259870845477),EML_Q16_FROMFLOAT(0.200027672539255),EML_Q16_FROMFLOAT(-2.321728493519976) },\\n  { EML_Q16_FROMFLOAT(-1.438142857142857),EML_Q16_FROMFLOAT(0.3260308523564867),EML_Q16_FROMFLOAT(-1.6169196014874005) },\\n  { EML_Q16_FROMFLOAT(-1.221385714285714),EML_Q16_FROMFLOAT(0.30218873436660937),EML_Q16_FROMFLOAT(-1.7264782172316617) },\\n  { EML_Q16_FROMFLOAT(-0.04134285714285715),EML_Q16_FROMFLOAT(0.3330648021070119),EML_Q16_FROMFLOAT(-1.5861251951193043) },\\n  { EML_Q16_FROMFLOAT(1.7546368948763067),EML_Q16_FROMFLOAT(1.9103622127828837),EML_Q16_FROMFLOAT(0.9338462052989505) },\\n  { EML_Q16_FROMFLOAT(0.7044489750727229),EML_Q16_FROMFLOAT(0.538643021898459),EML_Q16_FROMFLOAT(-0.8925986311064519) },\\n  { EML_Q16_FROMFLOAT(-0.9018785714285714),EML_Q16_FROMFLOAT(0.22196380623906686),EML_Q16_FROMFLOAT(-2.171603647214839) },\\n  { EML_Q16_FROMFLOAT(-0.05808214285714286),EML_Q16_FROMFLOAT(0.2071028449459974),EML_Q16_FROMFLOAT(-2.271580723070651) },\\n  { EML_Q16_FROMFLOAT(-0.7174642857142856),EML_Q16_FROMFLOAT(0.25626613210451255),EML_Q16_FROMFLOAT(-1.964285268904919) },\\n  { EML_Q16_FROMFLOAT(0.08839642857142858),EML_Q16_FROMFLOAT(0.2007692139305149),EML_Q16_FROMFLOAT(-2.316390032346211) },\\n  { EML_Q16_FROMFLOAT(0.4805749999999999),EML_Q16_FROMFLOAT(0.25459237771954035),EML_Q16_FROMFLOAT(-1.9737388680708432) },\\n  { EML_Q16_FROMFLOAT(0.6732796388174915),EML_Q16_FROMFLOAT(0.19386660296226027),EML_Q16_FROMFLOAT(-2.366863800419338) },\\n  { EML_Q16_FROMFLOAT(-14.672223265306123),EML_Q16_FROMFLOAT(21.93306407920557),EML_Q16_FROMFLOAT(4.455035467458978) },\\n  { EML_Q16_FROMFLOAT(-1.4015112244897954),EML_Q16_FROMFLOAT(5.432172396511043),EML_Q16_FROMFLOAT(2.4415292659679286) },\\n  { EML_Q16_FROMFLOAT(-6.947971428571431),EML_Q16_FROMFLOAT(17.16970075059119),EML_Q16_FROMFLOAT(4.101792989824363) },\\n  { EML_Q16_FROMFLOAT(0.12641428571428565),EML_Q16_FROMFLOAT(2.6622454984533706),EML_Q16_FROMFLOAT(1.4126436152281778) },\\n  { EML_Q16_FROMFLOAT(45.12773462102878),EML_Q16_FROMFLOAT(16.56082267631101),EML_Q16_FROMFLOAT(4.049702436900574) },\\n  { EML_Q16_FROMFLOAT(22.123978841838564),EML_Q16_FROMFLOAT(10.423320265950348),EML_Q16_FROMFLOAT(3.3817430047696986) },\\n  { EML_Q16_FROMFLOAT(2310.7364980622624),EML_Q16_FROMFLOAT(1695.029000915481),EML_Q16_FROMFLOAT(10.727094241869736) },\\n  { EML_Q16_FROMFLOAT(598.0792634807375),EML_Q16_FROMFLOAT(523.945340597289),EML_Q16_FROMFLOAT(9.033272503517667) },\\n  { EML_Q16_FROMFLOAT(-122.50458571428574),EML_Q16_FROMFLOAT(51.70238628764531),EML_Q16_FROMFLOAT(5.692158963549495) },\\n  { EML_Q16_FROMFLOAT(-62.131157142857134),EML_Q16_FROMFLOAT(36.78577251540682),EML_Q16_FROMFLOAT(5.201075983715326) },\\n  { EML_Q16_FROMFLOAT(71.11989999999997),EML_Q16_FROMFLOAT(42.13271482180644),EML_Q16_FROMFLOAT(5.396868973848752) },\\n  { EML_Q16_FROMFLOAT(75.65745714285713),EML_Q16_FROMFLOAT(30.92050278074131),EML_Q16_FROMFLOAT(4.950491873185853) },\\n  { EML_Q16_FROMFLOAT(1.0487580250766875),EML_Q16_FROMFLOAT(1.6277459954817863),EML_Q16_FROMFLOAT(0.7028755892546166) },\\n  { EML_Q16_FROMFLOAT(-0.40558092243300603),EML_Q16_FROMFLOAT(1.0118417072578767),EML_Q16_FROMFLOAT(0.016983612150680564) },\\n  { EML_Q16_FROMFLOAT(-8.208992857142857),EML_Q16_FROMFLOAT(7.834332085071981),EML_Q16_FROMFLOAT(2.9698102831689583) },\\n  { EML_Q16_FROMFLOAT(3.958739285714286),EML_Q16_FROMFLOAT(11.739509206263524),EML_Q16_FROMFLOAT(3.5533001898352796) },\\n  { EML_Q16_FROMFLOAT(14.675667857142853),EML_Q16_FROMFLOAT(8.043298323703967),EML_Q16_FROMFLOAT(3.0077872301929007) },\\n  { EML_Q16_FROMFLOAT(36.89412034308132),EML_Q16_FROMFLOAT(12.002241647356836),EML_Q16_FROMFLOAT(3.585231976679448) },\\n  { EML_Q16_FROMFLOAT(0.006543673469387763),EML_Q16_FROMFLOAT(0.20833223407501364),EML_Q16_FROMFLOAT(-2.263042018147604) },\\n  { EML_Q16_FROMFLOAT(-0.2969642857142859),EML_Q16_FROMFLOAT(0.39534863900146283),EML_Q16_FROMFLOAT(-1.3388026367460037) },\\n  { EML_Q16_FROMFLOAT(-0.8434785714285713),EML_Q16_FROMFLOAT(0.2647920832494102),EML_Q16_FROMFLOAT(-1.9170681057767989) },\\n  { EML_Q16_FROMFLOAT(-0.29449285714285706),EML_Q16_FROMFLOAT(0.399672327273602),EML_Q16_FROMFLOAT(-1.3231104087620422) },\\n  { EML_Q16_FROMFLOAT(0.14236608555797026),EML_Q16_FROMFLOAT(0.2118845917327722),EML_Q16_FROMFLOAT(-2.23864941628045) },\\n  { EML_Q16_FROMFLOAT(0.0719248868658892),EML_Q16_FROMFLOAT(0.2050308468824364),EML_Q16_FROMFLOAT(-2.286087115417912) },\\n  { EML_Q16_FROMFLOAT(-1.3610142857142857),EML_Q16_FROMFLOAT(0.5307514697169143),EML_Q16_FROMFLOAT(-0.9138916337489504) },\\n  { EML_Q16_FROMFLOAT(-0.6749285714285718),EML_Q16_FROMFLOAT(0.2862228961493717),EML_Q16_FROMFLOAT(-1.8047890110829865) },\\n  { EML_Q16_FROMFLOAT(-0.4956142857142858),EML_Q16_FROMFLOAT(0.2840766542041205),EML_Q16_FROMFLOAT(-1.815647821078571) },\\n  { EML_Q16_FROMFLOAT(0.24751783580803202),EML_Q16_FROMFLOAT(0.7841124794123243),EML_Q16_FROMFLOAT(-0.3508674739003262) },\\n  { EML_Q16_FROMFLOAT(-0.016112544025345538),EML_Q16_FROMFLOAT(0.5966981551856038),EML_Q16_FROMFLOAT(-0.744926778374464) },\\n  { EML_Q16_FROMFLOAT(-0.37543571428571426),EML_Q16_FROMFLOAT(0.3751659857881294),EML_Q16_FROMFLOAT(-1.4143990622346778) },\\n  { EML_Q16_FROMFLOAT(0.08903928571428571),EML_Q16_FROMFLOAT(0.22515146651648033),EML_Q16_FROMFLOAT(-2.1510322202315306) },\\n  { EML_Q16_FROMFLOAT(-0.21892857142857144),EML_Q16_FROMFLOAT(0.42851182871837096),EML_Q16_FROMFLOAT(-1.2225930655839028) },\\n  { EML_Q16_FROMFLOAT(0.16434285714285707),EML_Q16_FROMFLOAT(0.2203137979007219),EML_Q16_FROMFLOAT(-2.182368243336594) },\\n  { EML_Q16_FROMFLOAT(0.31968214285714297),EML_Q16_FROMFLOAT(0.29304169222949467),EML_Q16_FROMFLOAT(-1.7708221575650975) },\\n  { EML_Q16_FROMFLOAT(0.6186718656067721),EML_Q16_FROMFLOAT(0.19478199135658814),EML_Q16_FROMFLOAT(-2.360067796222483) },\\n  { EML_Q16_FROMFLOAT(-2.7289540816326534),EML_Q16_FROMFLOAT(16.32828782212558),EML_Q16_FROMFLOAT(4.0293016132803245) },\\n  { EML_Q16_FROMFLOAT(1.3753132653061222),EML_Q16_FROMFLOAT(8.757886756366368),EML_Q16_FROMFLOAT(3.130582795179361) },\\n  { EML_Q16_FROMFLOAT(-1.9260571428571427),EML_Q16_FROMFLOAT(15.399116749888233),EML_Q16_FROMFLOAT(3.944775699242642) },\\n  { EML_Q16_FROMFLOAT(2.780185714285714),EML_Q16_FROMFLOAT(8.635696622311754),EML_Q16_FROMFLOAT(3.1103125614273153) },\\n  { EML_Q16_FROMFLOAT(16.01476457344294),EML_Q16_FROMFLOAT(15.67163596362201),EML_Q16_FROMFLOAT(3.970083885636572) },\\n  { EML_Q16_FROMFLOAT(18.157939246022547),EML_Q16_FROMFLOAT(13.810046043042878),EML_Q16_FROMFLOAT(3.7876462244731086) },\\n  { EML_Q16_FROMFLOAT(502.03607643914023),EML_Q16_FROMFLOAT(1309.0362052766086),EML_Q16_FROMFLOAT(10.354289284504965) },\\n  { EML_Q16_FROMFLOAT(520.3913476932563),EML_Q16_FROMFLOAT(783.419842430326),EML_Q16_FROMFLOAT(9.6136418590556) },\\n  { EML_Q16_FROMFLOAT(-36.81381428571429),EML_Q16_FROMFLOAT(44.88483904587421),EML_Q16_FROMFLOAT(5.4881563165369585) },\\n  { EML_Q16_FROMFLOAT(-39.46094285714287),EML_Q16_FROMFLOAT(32.582603089766465),EML_Q16_FROMFLOAT(5.026029963166915) },\\n  { EML_Q16_FROMFLOAT(27.719557142857138),EML_Q16_FROMFLOAT(28.369769612556702),EML_Q16_FROMFLOAT(4.826282529596513) },\\n  { EML_Q16_FROMFLOAT(34.52932857142857),EML_Q16_FROMFLOAT(28.58961092051237),EML_Q16_FROMFLOAT(4.8374190811779245) },\\n  { EML_Q16_FROMFLOAT(-0.3313399281882896),EML_Q16_FROMFLOAT(0.9756298858639035),EML_Q16_FROMFLOAT(-0.03559414289588142) },\\n  { EML_Q16_FROMFLOAT(-0.10905457732446193),EML_Q16_FROMFLOAT(0.4886106167042696),EML_Q16_FROMFLOAT(-1.0332428835535885) },\\n  { EML_Q16_FROMFLOAT(-9.895110714285714),EML_Q16_FROMFLOAT(13.895836806422695),EML_Q16_FROMFLOAT(3.7965808110469252) },\\n  { EML_Q16_FROMFLOAT(9.085707142857144),EML_Q16_FROMFLOAT(13.062485670309666),EML_Q16_FROMFLOAT(3.707357549429436) },\\n  { EML_Q16_FROMFLOAT(23.841235714285723),EML_Q16_FROMFLOAT(19.72818296895422),EML_Q16_FROMFLOAT(4.3021861800722) },\\n  { EML_Q16_FROMFLOAT(19.99835488389625),EML_Q16_FROMFLOAT(14.678576864022014),EML_Q16_FROMFLOAT(3.875640195851554) },\\n  { EML_Q16_FROMFLOAT(0.14157816326530612),EML_Q16_FROMFLOAT(0.20044189959269723),EML_Q16_FROMFLOAT(-2.3187439794868894) },\\n  { EML_Q16_FROMFLOAT(-0.3494514285714285),EML_Q16_FROMFLOAT(0.20550909270943818),EML_Q16_FROMFLOAT(-2.2827258678095594) },\\n  { EML_Q16_FROMFLOAT(-0.9533571428571429),EML_Q16_FROMFLOAT(0.19846175119729562),EML_Q16_FROMFLOAT(-2.3330671060334365) },\\n  { EML_Q16_FROMFLOAT(-0.31318571428571435),EML_Q16_FROMFLOAT(0.21205042131081275),EML_Q16_FROMFLOAT(-2.2375207455421853) },\\n  { EML_Q16_FROMFLOAT(0.27994854532836333),EML_Q16_FROMFLOAT(0.2061836308573183),EML_Q16_FROMFLOAT(-2.2779982947632176) },\\n  { EML_Q16_FROMFLOAT(0.056945937341107866),EML_Q16_FROMFLOAT(0.1935522077317436),EML_Q16_FROMFLOAT(-2.369205331222662) },\\n  { EML_Q16_FROMFLOAT(-1.4809285714285714),EML_Q16_FROMFLOAT(0.25950398399389835),EML_Q16_FROMFLOAT(-1.946171407386597) },\\n  { EML_Q16_FROMFLOAT(-1.039342857142857),EML_Q16_FROMFLOAT(0.3470241936436299),EML_Q16_FROMFLOAT(-1.526891847550838) },\\n  { EML_Q16_FROMFLOAT(-0.4405571428571427),EML_Q16_FROMFLOAT(0.2545953334826748),EML_Q16_FROMFLOAT(-1.9737221187867486) },\\n  { EML_Q16_FROMFLOAT(-0.03793760805640997),EML_Q16_FROMFLOAT(0.697978864636503),EML_Q16_FROMFLOAT(-0.5187447437615454) },\\n  { EML_Q16_FROMFLOAT(-0.4714890086087891),EML_Q16_FROMFLOAT(0.561994131004276),EML_Q16_FROMFLOAT(-0.8313730306604454) },\\n  { EML_Q16_FROMFLOAT(-0.504482142857143),EML_Q16_FROMFLOAT(0.2243708509184486),EML_Q16_FROMFLOAT(-2.1560428341231432) },\\n  { EML_Q16_FROMFLOAT(0.3136321428571429),EML_Q16_FROMFLOAT(0.21019591836905765),EML_Q16_FROMFLOAT(-2.2501934398874206) },\\n  { EML_Q16_FROMFLOAT(-0.1701571428571428),EML_Q16_FROMFLOAT(0.20672589661470672),EML_Q16_FROMFLOAT(-2.274208967965275) },\\n  { EML_Q16_FROMFLOAT(0.35405714285714274),EML_Q16_FROMFLOAT(0.22454208540242226),EML_Q16_FROMFLOAT(-2.154942223591115) },\\n  { EML_Q16_FROMFLOAT(0.29191071428571425),EML_Q16_FROMFLOAT(0.21266966676100293),EML_Q16_FROMFLOAT(-2.2333138196245232) },\\n  { EML_Q16_FROMFLOAT(0.6517110781610078),EML_Q16_FROMFLOAT(0.19359924877759374),EML_Q16_FROMFLOAT(-2.3688547403479068) },\\n  { EML_Q16_FROMFLOAT(11.610740816326532),EML_Q16_FROMFLOAT(7.1529655081251144),EML_Q16_FROMFLOAT(2.8385414848113073) },\\n  { EML_Q16_FROMFLOAT(-82.38314836734692),EML_Q16_FROMFLOAT(25.350493020825517),EML_Q16_FROMFLOAT(4.663941900174497) },\\n  { EML_Q16_FROMFLOAT(10.55598571428571),EML_Q16_FROMFLOAT(11.110427788203854),EML_Q16_FROMFLOAT(3.4738424612128007) },\\n  { EML_Q16_FROMFLOAT(-87.78209285714284),EML_Q16_FROMFLOAT(42.08384912643247),EML_Q16_FROMFLOAT(5.39519475915767) },\\n  { EML_Q16_FROMFLOAT(34.234050067566024),EML_Q16_FROMFLOAT(11.068637766008708),EML_Q16_FROMFLOAT(3.468405773271118) },\\n  { EML_Q16_FROMFLOAT(104.27184222359439),EML_Q16_FROMFLOAT(23.937992043344433),EML_Q16_FROMFLOAT(4.58123023670082) },\\n  { EML_Q16_FROMFLOAT(1294.4481443437785),EML_Q16_FROMFLOAT(904.0597685227877),EML_Q16_FROMFLOAT(9.8202743439429) },\\n  { EML_Q16_FROMFLOAT(11445.60776208943),EML_Q16_FROMFLOAT(5517.700612977159),EML_Q16_FROMFLOAT(12.429851463736217) },\\n  { EML_Q16_FROMFLOAT(-58.72891428571429),EML_Q16_FROMFLOAT(29.569762883991203),EML_Q16_FROMFLOAT(4.886050769611694) },\\n  { EML_Q16_FROMFLOAT(-248.10962857142854),EML_Q16_FROMFLOAT(60.084478003883326),EML_Q16_FROMFLOAT(5.9089204335925425) },\\n  { EML_Q16_FROMFLOAT(80.70594285714283),EML_Q16_FROMFLOAT(24.919030901635967),EML_Q16_FROMFLOAT(4.6391760580891725) },\\n  { EML_Q16_FROMFLOAT(41.67832857142858),EML_Q16_FROMFLOAT(19.945731940528606),EML_Q16_FROMFLOAT(4.318008161285385) },\\n  { EML_Q16_FROMFLOAT(-0.48728208263288214),EML_Q16_FROMFLOAT(1.086234267624201),EML_Q16_FROMFLOAT(0.11933528204781263) },\\n  { EML_Q16_FROMFLOAT(0.04466888845636852),EML_Q16_FROMFLOAT(0.5295905805828884),EML_Q16_FROMFLOAT(-0.9170506326123332) },\\n  { EML_Q16_FROMFLOAT(-166.97825714285716),EML_Q16_FROMFLOAT(41.52332231225916),EML_Q16_FROMFLOAT(5.375849974316932) },\\n  { EML_Q16_FROMFLOAT(36.78242500000002),EML_Q16_FROMFLOAT(14.210449503931708),EML_Q16_FROMFLOAT(3.828880285417135) },\\n  { EML_Q16_FROMFLOAT(164.6807714285714),EML_Q16_FROMFLOAT(50.382515903913195),EML_Q16_FROMFLOAT(5.654851261252319) },\\n  { EML_Q16_FROMFLOAT(82.89923400497908),EML_Q16_FROMFLOAT(15.408088932853055),EML_Q16_FROMFLOAT(3.9456160301943397) }\\n    };\\n    \\n\\nEmlBayesModel trained_model_model = {\\n        3,\\n        35,\\n        trained_model_summaries,\\n    };\\n    '"
            ]
          },
          "metadata": {
            "tags": []
          },
          "execution_count": 31
        }
      ]
    },
    {
      "cell_type": "markdown",
      "metadata": {
        "id": "99sZDNiGD57p"
      },
      "source": [
        "A continuación se debe descargar la cabecera generada y colocarla en el código del proyecto (CronuSwim/src/)"
      ]
    },
    {
      "cell_type": "markdown",
      "metadata": {
        "id": "SeH7HHUGirg6"
      },
      "source": [
        "# Generación de ficheros para tests unitarios\n"
      ]
    },
    {
      "cell_type": "markdown",
      "metadata": {
        "id": "L_om0wplDgJi"
      },
      "source": [
        "En este apartado se van a generar en la carpeta TFG/data/test/ todos los ficheros necesarios para que funcionen los tests unitarios correctamente. Una vez ejecutado todo, descargar la carpeta test y meterla directamente en el proyecto.\n",
        "\n",
        "De esta forma evitamos tener los valores de prueba escritos directamente en el código fuente de los tests, mejorando mucho la mantenibilidad y haciendo posible que se puedan cambiar parámetros del software fácilmente sin romper los tests, únicamente generando los nuevos ficheros automáticamente."
      ]
    },
    {
      "cell_type": "markdown",
      "metadata": {
        "id": "MyMQS9LtDXkt"
      },
      "source": [
        "## Ficheros event.csv copia"
      ]
    },
    {
      "cell_type": "code",
      "metadata": {
        "colab": {
          "base_uri": "https://localhost:8080/"
        },
        "id": "nL4we0C4DWTj",
        "outputId": "be9fcf83-5f17-47a9-9047-b1af51d43700"
      },
      "source": [
        "for i in range(1, 32):\n",
        "    if i <= 30:\n",
        "        TEST_EVENT_FILE = 'real_event' + str(i) + '.csv'\n",
        "    else:\n",
        "        TEST_EVENT_FILE = 'event27.csv'\n",
        "\n",
        "    src = FILE_PREFIX + TEST_EVENT_FILE\n",
        "    target = TESTING_PATH + TEST_EVENT_FILE\n",
        "    \n",
        "    %cp -v \"$src\" \"$target\""
      ],
      "execution_count": null,
      "outputs": [
        {
          "output_type": "stream",
          "text": [
            "'/content/drive/MyDrive/US/4º_(III)/TFG/data/real_event1.csv' -> '/content/drive/MyDrive/US/4º_(III)/TFG/data/test/real_event1.csv'\n",
            "'/content/drive/MyDrive/US/4º_(III)/TFG/data/real_event2.csv' -> '/content/drive/MyDrive/US/4º_(III)/TFG/data/test/real_event2.csv'\n",
            "'/content/drive/MyDrive/US/4º_(III)/TFG/data/real_event3.csv' -> '/content/drive/MyDrive/US/4º_(III)/TFG/data/test/real_event3.csv'\n",
            "'/content/drive/MyDrive/US/4º_(III)/TFG/data/real_event4.csv' -> '/content/drive/MyDrive/US/4º_(III)/TFG/data/test/real_event4.csv'\n",
            "'/content/drive/MyDrive/US/4º_(III)/TFG/data/real_event5.csv' -> '/content/drive/MyDrive/US/4º_(III)/TFG/data/test/real_event5.csv'\n",
            "'/content/drive/MyDrive/US/4º_(III)/TFG/data/real_event6.csv' -> '/content/drive/MyDrive/US/4º_(III)/TFG/data/test/real_event6.csv'\n",
            "'/content/drive/MyDrive/US/4º_(III)/TFG/data/real_event7.csv' -> '/content/drive/MyDrive/US/4º_(III)/TFG/data/test/real_event7.csv'\n",
            "'/content/drive/MyDrive/US/4º_(III)/TFG/data/real_event8.csv' -> '/content/drive/MyDrive/US/4º_(III)/TFG/data/test/real_event8.csv'\n",
            "'/content/drive/MyDrive/US/4º_(III)/TFG/data/real_event9.csv' -> '/content/drive/MyDrive/US/4º_(III)/TFG/data/test/real_event9.csv'\n",
            "'/content/drive/MyDrive/US/4º_(III)/TFG/data/real_event10.csv' -> '/content/drive/MyDrive/US/4º_(III)/TFG/data/test/real_event10.csv'\n",
            "'/content/drive/MyDrive/US/4º_(III)/TFG/data/real_event11.csv' -> '/content/drive/MyDrive/US/4º_(III)/TFG/data/test/real_event11.csv'\n",
            "'/content/drive/MyDrive/US/4º_(III)/TFG/data/real_event12.csv' -> '/content/drive/MyDrive/US/4º_(III)/TFG/data/test/real_event12.csv'\n",
            "'/content/drive/MyDrive/US/4º_(III)/TFG/data/real_event13.csv' -> '/content/drive/MyDrive/US/4º_(III)/TFG/data/test/real_event13.csv'\n",
            "'/content/drive/MyDrive/US/4º_(III)/TFG/data/real_event14.csv' -> '/content/drive/MyDrive/US/4º_(III)/TFG/data/test/real_event14.csv'\n",
            "'/content/drive/MyDrive/US/4º_(III)/TFG/data/real_event15.csv' -> '/content/drive/MyDrive/US/4º_(III)/TFG/data/test/real_event15.csv'\n",
            "'/content/drive/MyDrive/US/4º_(III)/TFG/data/real_event16.csv' -> '/content/drive/MyDrive/US/4º_(III)/TFG/data/test/real_event16.csv'\n",
            "'/content/drive/MyDrive/US/4º_(III)/TFG/data/real_event17.csv' -> '/content/drive/MyDrive/US/4º_(III)/TFG/data/test/real_event17.csv'\n",
            "'/content/drive/MyDrive/US/4º_(III)/TFG/data/real_event18.csv' -> '/content/drive/MyDrive/US/4º_(III)/TFG/data/test/real_event18.csv'\n",
            "'/content/drive/MyDrive/US/4º_(III)/TFG/data/real_event19.csv' -> '/content/drive/MyDrive/US/4º_(III)/TFG/data/test/real_event19.csv'\n",
            "'/content/drive/MyDrive/US/4º_(III)/TFG/data/real_event20.csv' -> '/content/drive/MyDrive/US/4º_(III)/TFG/data/test/real_event20.csv'\n",
            "'/content/drive/MyDrive/US/4º_(III)/TFG/data/real_event21.csv' -> '/content/drive/MyDrive/US/4º_(III)/TFG/data/test/real_event21.csv'\n",
            "'/content/drive/MyDrive/US/4º_(III)/TFG/data/real_event22.csv' -> '/content/drive/MyDrive/US/4º_(III)/TFG/data/test/real_event22.csv'\n",
            "'/content/drive/MyDrive/US/4º_(III)/TFG/data/real_event23.csv' -> '/content/drive/MyDrive/US/4º_(III)/TFG/data/test/real_event23.csv'\n",
            "'/content/drive/MyDrive/US/4º_(III)/TFG/data/real_event24.csv' -> '/content/drive/MyDrive/US/4º_(III)/TFG/data/test/real_event24.csv'\n",
            "'/content/drive/MyDrive/US/4º_(III)/TFG/data/real_event25.csv' -> '/content/drive/MyDrive/US/4º_(III)/TFG/data/test/real_event25.csv'\n",
            "'/content/drive/MyDrive/US/4º_(III)/TFG/data/real_event26.csv' -> '/content/drive/MyDrive/US/4º_(III)/TFG/data/test/real_event26.csv'\n",
            "'/content/drive/MyDrive/US/4º_(III)/TFG/data/real_event27.csv' -> '/content/drive/MyDrive/US/4º_(III)/TFG/data/test/real_event27.csv'\n",
            "'/content/drive/MyDrive/US/4º_(III)/TFG/data/real_event28.csv' -> '/content/drive/MyDrive/US/4º_(III)/TFG/data/test/real_event28.csv'\n",
            "'/content/drive/MyDrive/US/4º_(III)/TFG/data/real_event29.csv' -> '/content/drive/MyDrive/US/4º_(III)/TFG/data/test/real_event29.csv'\n",
            "'/content/drive/MyDrive/US/4º_(III)/TFG/data/real_event30.csv' -> '/content/drive/MyDrive/US/4º_(III)/TFG/data/test/real_event30.csv'\n",
            "'/content/drive/MyDrive/US/4º_(III)/TFG/data/event27.csv' -> '/content/drive/MyDrive/US/4º_(III)/TFG/data/test/event27.csv'\n"
          ],
          "name": "stdout"
        }
      ]
    },
    {
      "cell_type": "markdown",
      "metadata": {
        "id": "JhFJKeNflBWb"
      },
      "source": [
        "## Ficheros de ventanas aisladas"
      ]
    },
    {
      "cell_type": "markdown",
      "metadata": {
        "id": "37bHclpmjfyk"
      },
      "source": [
        "En primer lugar necesitamos crear ficheros que contengan una única ventana y sepamos de antemano que tipo de ventana es. Por lo tanto se generarán ficheros con el nombre SX.csv que corresponderan a salidas, FX.csv que corresponderán a llegadas y OX.csv para otros tipos de ventanas, donde X es un número entero."
      ]
    },
    {
      "cell_type": "code",
      "metadata": {
        "id": "Bo73s8Ajgl_V"
      },
      "source": [
        "def create_phase_file(section, filename_src, phase_class):\n",
        "    if phase_class == 'S':\n",
        "        global STARTS_COUNT\n",
        "        STARTS_COUNT += 1\n",
        "        filename_num = str(STARTS_COUNT)\n",
        "    elif phase_class == 'F':\n",
        "        global FINISH_COUNT\n",
        "        FINISH_COUNT += 1\n",
        "        filename_num = str(FINISH_COUNT)\n",
        "    else:\n",
        "        global OTHERS_COUNT\n",
        "        OTHERS_COUNT += 1\n",
        "        filename_num = str(OTHERS_COUNT)\n",
        "    \n",
        "    filename_target = TESTING_PATH + phase_class + filename_num + '.csv'\n",
        "    \n",
        "    event_df = pd.read_csv(filename_src)\n",
        "    window = event_df[section[0]:section[1]]\n",
        "    window.to_csv(filename_target, index=False)\n",
        "\n",
        "\n",
        "# Divide un event.csv en S.csv, O.csv y F.csv\n",
        "def split_in_phases_files(filename_src, sections):\n",
        "    create_phase_file(sections[0], filename_src, 'S')\n",
        "    create_phase_file(sections[1], filename_src, 'F')\n",
        "    create_phase_file(random.choice(sections[2:]), filename_src, 'O')\n",
        "\n",
        "\n",
        "# =============================== Main function =============================== #\n",
        "\n",
        "def split_data():\n",
        "    for filename in glob.glob(FILE_PREFIX + \"event*.csv\"):\n",
        "        sections = get_sections(filename)\n",
        "        split_in_phases_files(filename, sections)\n",
        "\n",
        "    print(\"Window size: \" + str(W_SIZE))"
      ],
      "execution_count": null,
      "outputs": []
    },
    {
      "cell_type": "markdown",
      "metadata": {
        "id": "RTJBxn0dkMqf"
      },
      "source": [
        "Llamamos a la función principal"
      ]
    },
    {
      "cell_type": "code",
      "metadata": {
        "colab": {
          "base_uri": "https://localhost:8080/"
        },
        "id": "BU7yeRoQiywd",
        "outputId": "4deaff85-bbac-426b-8b09-1d7c5ac1c667"
      },
      "source": [
        "STARTS_COUNT = 0\n",
        "OTHERS_COUNT = 0\n",
        "FINISH_COUNT = 0\n",
        "\n",
        "split_data()"
      ],
      "execution_count": null,
      "outputs": [
        {
          "output_type": "stream",
          "text": [
            "Window size: 70\n"
          ],
          "name": "stdout"
        }
      ]
    },
    {
      "cell_type": "markdown",
      "metadata": {
        "id": "yjYxNL2jlKHT"
      },
      "source": [
        "## Fichero con las estadísticas seleccionadas de una ventana en concreto"
      ]
    },
    {
      "cell_type": "markdown",
      "metadata": {
        "id": "CEuYJROxlVo_"
      },
      "source": [
        "También necesitamos generar un fichero que contenga las estadísticas seleccionadas de una ventana en concreto que será la que se usará en los tests unitarios para realizar las pruebas."
      ]
    },
    {
      "cell_type": "code",
      "metadata": {
        "id": "KfTMMJu8kiIU"
      },
      "source": [
        "# =============================== Main function =============================== #\n",
        "\n",
        "def create_statistic_from_file(filename_src):\n",
        "    filename_target = \"stats_\" + filename_src\n",
        "    section = (0, W_SIZE)\n",
        "\n",
        "    event_df = pd.read_csv(TESTING_PATH + filename_src)\n",
        "    timestamp = event_df['n'][section[0]:section[1]].mean()\n",
        "    accel_stats = get_statistic_from_sensor('aX', 'aY', 'aZ', event_df, section)\n",
        "    gyros_stats = get_statistic_from_sensor('gX', 'gY', 'gZ', event_df, section)\n",
        "    stats = np.array(accel_stats + gyros_stats)\n",
        "    relevant_stats = stats[feat_select_mask]\n",
        "    str_relevant_stats = ','.join(str(s) for s in relevant_stats)\n",
        "\n",
        "    with open(TESTING_PATH + filename_target, 'w') as file_target:\n",
        "        stats_names = ','.join(selection)\n",
        "        file_target.write('timestamp,' + stats_names + '\\n') # header\n",
        "        file_target.write(str(timestamp) + ',' + str_relevant_stats + '\\n')\n",
        "\n",
        "    print(\"Relevant features: \")\n",
        "    print(str_relevant_stats)\n",
        "    print(\"Timestamp: \")\n",
        "    print(timestamp)"
      ],
      "execution_count": null,
      "outputs": []
    },
    {
      "cell_type": "markdown",
      "metadata": {
        "id": "WWxFKR_IE7dm"
      },
      "source": [
        "Llamamos a la función principal:"
      ]
    },
    {
      "cell_type": "code",
      "metadata": {
        "colab": {
          "base_uri": "https://localhost:8080/"
        },
        "id": "AEPGIrkDE7Ei",
        "outputId": "fd03e643-46d9-460d-c0f5-bb999a6dbf69"
      },
      "source": [
        "create_statistic_from_file(TEST_EVENT_FILE)"
      ],
      "execution_count": null,
      "outputs": [
        {
          "output_type": "stream",
          "text": [
            "Relevant features: \n",
            "-0.042571428571428545,-0.844757142857143,-0.551,-0.8440000000000001,0.008591642830717085,8.365489795918355e-05,-0.58,-0.857,-0.537,0.8826789660749395,-0.45971082883461356,-0.84875,-0.037000000000000005,-0.841,0.009999999999999995,0.010000000000000009,0.5832706143153532,-1.597314285714286,0.4220142857142857,-1.709,0.42700000000000005,0.7256668173452044,0.8561055257528064,0.5265923297959183,0.7329166712244891,-2.8689999999999998,-2.136,-0.061,0.8540000000000001,-0.4723143922086641,0.251614250886061,-0.04575,-0.9617499999999999,1.1295,1.359930688009678\n",
            "Timestamp: \n",
            "113193.5\n"
          ],
          "name": "stdout"
        }
      ]
    }
  ]
}